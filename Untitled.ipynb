{
 "cells": [
  {
   "cell_type": "code",
   "execution_count": 11,
   "metadata": {},
   "outputs": [],
   "source": [
    "import requests\n",
    "import json"
   ]
  },
  {
   "cell_type": "code",
   "execution_count": 12,
   "metadata": {},
   "outputs": [],
   "source": [
    "def jprint(obj):\n",
    "    text = json.dumps(obj, sort_keys=True, indent=4)\n",
    "    print(text)"
   ]
  },
  {
   "cell_type": "code",
   "execution_count": 13,
   "metadata": {},
   "outputs": [],
   "source": [
    "url = \"http://api.open-notify.org\""
   ]
  },
  {
   "cell_type": "code",
   "execution_count": 14,
   "metadata": {},
   "outputs": [],
   "source": [
    "response = requests.get(url + \"/astros.json\")"
   ]
  },
  {
   "cell_type": "code",
   "execution_count": 15,
   "metadata": {},
   "outputs": [],
   "source": [
    "param = {\"lat\":40.71, \"lon\":-74}"
   ]
  },
  {
   "cell_type": "code",
   "execution_count": 16,
   "metadata": {},
   "outputs": [],
   "source": [
    "response = requests.get(url + \"/iss-pass.json\", params=param)"
   ]
  },
  {
   "cell_type": "code",
   "execution_count": 17,
   "metadata": {},
   "outputs": [
    {
     "data": {
      "text/plain": [
       "200"
      ]
     },
     "execution_count": 17,
     "metadata": {},
     "output_type": "execute_result"
    }
   ],
   "source": [
    "response.status_code"
   ]
  },
  {
   "cell_type": "code",
   "execution_count": 18,
   "metadata": {},
   "outputs": [
    {
     "name": "stdout",
     "output_type": "stream",
     "text": [
      "{\n",
      "    \"message\": \"success\",\n",
      "    \"request\": {\n",
      "        \"altitude\": 100,\n",
      "        \"datetime\": 1584418162,\n",
      "        \"latitude\": 40.71,\n",
      "        \"longitude\": -74.0,\n",
      "        \"passes\": 5\n",
      "    },\n",
      "    \"response\": [\n",
      "        {\n",
      "            \"duration\": 650,\n",
      "            \"risetime\": 1584429787\n",
      "        },\n",
      "        {\n",
      "            \"duration\": 589,\n",
      "            \"risetime\": 1584435609\n",
      "        },\n",
      "        {\n",
      "            \"duration\": 587,\n",
      "            \"risetime\": 1584489993\n",
      "        },\n",
      "        {\n",
      "            \"duration\": 646,\n",
      "            \"risetime\": 1584495756\n",
      "        }\n",
      "    ]\n",
      "}\n"
     ]
    }
   ],
   "source": [
    "jprint(response.json())"
   ]
  },
  {
   "cell_type": "code",
   "execution_count": 19,
   "metadata": {},
   "outputs": [
    {
     "name": "stdout",
     "output_type": "stream",
     "text": [
      "[\n",
      "    {\n",
      "        \"duration\": 650,\n",
      "        \"risetime\": 1584429787\n",
      "    },\n",
      "    {\n",
      "        \"duration\": 589,\n",
      "        \"risetime\": 1584435609\n",
      "    },\n",
      "    {\n",
      "        \"duration\": 587,\n",
      "        \"risetime\": 1584489993\n",
      "    },\n",
      "    {\n",
      "        \"duration\": 646,\n",
      "        \"risetime\": 1584495756\n",
      "    }\n",
      "]\n"
     ]
    }
   ],
   "source": [
    "pass_times = response.json()['response']\n",
    "jprint(pass_times)"
   ]
  },
  {
   "cell_type": "code",
   "execution_count": 20,
   "metadata": {},
   "outputs": [],
   "source": [
    "risetimes = []\n",
    "for d in pass_times:\n",
    "    time = d['risetime']\n",
    "    risetimes.append(time)"
   ]
  },
  {
   "cell_type": "code",
   "execution_count": 21,
   "metadata": {},
   "outputs": [
    {
     "name": "stdout",
     "output_type": "stream",
     "text": [
      "[1584429787, 1584435609, 1584489993, 1584495756]\n"
     ]
    }
   ],
   "source": [
    "print(risetimes)"
   ]
  },
  {
   "cell_type": "code",
   "execution_count": 22,
   "metadata": {},
   "outputs": [
    {
     "name": "stdout",
     "output_type": "stream",
     "text": [
      "2020-03-17 14:23:07\n",
      "2020-03-17 16:00:09\n",
      "2020-03-18 07:06:33\n",
      "2020-03-18 08:42:36\n"
     ]
    }
   ],
   "source": [
    "from datetime import datetime\n",
    "\n",
    "times = []\n",
    "for rt in risetimes:\n",
    "    time = datetime.fromtimestamp(rt)\n",
    "    times.append(time)\n",
    "    print(time)"
   ]
  },
  {
   "cell_type": "code",
   "execution_count": 23,
   "metadata": {},
   "outputs": [],
   "source": [
    "API_KEY = '66d52336dc3e35bd3adfb570b791362a'\n",
    "USER_AGENT = 'sirapop25'"
   ]
  },
  {
   "cell_type": "code",
   "execution_count": 24,
   "metadata": {},
   "outputs": [],
   "source": [
    "header = {'user-agent': USER_AGENT}\n",
    "\n",
    "payload = {\n",
    "    'api_key': API_KEY,\n",
    "    'method': 'chart.gettopartists', \n",
    "    'format': 'json'\n",
    "}\n",
    "\n",
    "r = requests.get('http://ws.audioscrobbler.com/2.0/', headers=header, params=payload)"
   ]
  },
  {
   "cell_type": "code",
   "execution_count": 25,
   "metadata": {},
   "outputs": [
    {
     "data": {
      "text/plain": [
       "200"
      ]
     },
     "execution_count": 25,
     "metadata": {},
     "output_type": "execute_result"
    }
   ],
   "source": [
    "r.status_code"
   ]
  },
  {
   "cell_type": "code",
   "execution_count": 26,
   "metadata": {},
   "outputs": [
    {
     "data": {
      "text/plain": [
       "<Response [200]>"
      ]
     },
     "execution_count": 26,
     "metadata": {},
     "output_type": "execute_result"
    }
   ],
   "source": [
    "r"
   ]
  },
  {
   "cell_type": "code",
   "execution_count": 27,
   "metadata": {},
   "outputs": [
    {
     "name": "stdout",
     "output_type": "stream",
     "text": [
      "{\n",
      "    \"page\": \"1\",\n",
      "    \"perPage\": \"50\",\n",
      "    \"total\": \"3139814\",\n",
      "    \"totalPages\": \"62797\"\n",
      "}\n"
     ]
    }
   ],
   "source": [
    "jprint(r.json()['artists']['@attr'])"
   ]
  },
  {
   "cell_type": "code",
   "execution_count": 28,
   "metadata": {},
   "outputs": [
    {
     "ename": "JSONDecodeError",
     "evalue": "Unterminated string starting at: line 1 column 198173 (char 198172)",
     "output_type": "error",
     "traceback": [
      "\u001b[1;31m---------------------------------------------------------------------------\u001b[0m",
      "\u001b[1;31mJSONDecodeError\u001b[0m                           Traceback (most recent call last)",
      "\u001b[1;32m<ipython-input-28-dcadc19e4650>\u001b[0m in \u001b[0;36m<module>\u001b[1;34m\u001b[0m\n\u001b[0;32m     33\u001b[0m         \u001b[1;32mbreak\u001b[0m\u001b[1;33m\u001b[0m\u001b[1;33m\u001b[0m\u001b[0m\n\u001b[0;32m     34\u001b[0m \u001b[1;33m\u001b[0m\u001b[0m\n\u001b[1;32m---> 35\u001b[1;33m     \u001b[0mpage\u001b[0m \u001b[1;33m=\u001b[0m \u001b[0mint\u001b[0m\u001b[1;33m(\u001b[0m\u001b[0mresponse\u001b[0m\u001b[1;33m.\u001b[0m\u001b[0mjson\u001b[0m\u001b[1;33m(\u001b[0m\u001b[1;33m)\u001b[0m\u001b[1;33m[\u001b[0m\u001b[1;34m'artists'\u001b[0m\u001b[1;33m]\u001b[0m\u001b[1;33m[\u001b[0m\u001b[1;34m'@attr'\u001b[0m\u001b[1;33m]\u001b[0m\u001b[1;33m[\u001b[0m\u001b[1;34m'page'\u001b[0m\u001b[1;33m]\u001b[0m\u001b[1;33m)\u001b[0m\u001b[1;33m\u001b[0m\u001b[1;33m\u001b[0m\u001b[0m\n\u001b[0m\u001b[0;32m     36\u001b[0m \u001b[1;33m\u001b[0m\u001b[0m\n\u001b[0;32m     37\u001b[0m     \u001b[1;31m#total_pages = int(response.json()['artists']['@attr']['totalPages'])\u001b[0m\u001b[1;33m\u001b[0m\u001b[1;33m\u001b[0m\u001b[1;33m\u001b[0m\u001b[0m\n",
      "\u001b[1;32m~\\AppData\\Local\\Continuum\\anaconda3\\lib\\site-packages\\requests\\models.py\u001b[0m in \u001b[0;36mjson\u001b[1;34m(self, **kwargs)\u001b[0m\n\u001b[0;32m    888\u001b[0m                 \u001b[1;32mtry\u001b[0m\u001b[1;33m:\u001b[0m\u001b[1;33m\u001b[0m\u001b[1;33m\u001b[0m\u001b[0m\n\u001b[0;32m    889\u001b[0m                     return complexjson.loads(\n\u001b[1;32m--> 890\u001b[1;33m                         \u001b[0mself\u001b[0m\u001b[1;33m.\u001b[0m\u001b[0mcontent\u001b[0m\u001b[1;33m.\u001b[0m\u001b[0mdecode\u001b[0m\u001b[1;33m(\u001b[0m\u001b[0mencoding\u001b[0m\u001b[1;33m)\u001b[0m\u001b[1;33m,\u001b[0m \u001b[1;33m**\u001b[0m\u001b[0mkwargs\u001b[0m\u001b[1;33m\u001b[0m\u001b[1;33m\u001b[0m\u001b[0m\n\u001b[0m\u001b[0;32m    891\u001b[0m                     )\n\u001b[0;32m    892\u001b[0m                 \u001b[1;32mexcept\u001b[0m \u001b[0mUnicodeDecodeError\u001b[0m\u001b[1;33m:\u001b[0m\u001b[1;33m\u001b[0m\u001b[1;33m\u001b[0m\u001b[0m\n",
      "\u001b[1;32m~\\AppData\\Local\\Continuum\\anaconda3\\lib\\json\\__init__.py\u001b[0m in \u001b[0;36mloads\u001b[1;34m(s, encoding, cls, object_hook, parse_float, parse_int, parse_constant, object_pairs_hook, **kw)\u001b[0m\n\u001b[0;32m    346\u001b[0m             \u001b[0mparse_int\u001b[0m \u001b[1;32mis\u001b[0m \u001b[1;32mNone\u001b[0m \u001b[1;32mand\u001b[0m \u001b[0mparse_float\u001b[0m \u001b[1;32mis\u001b[0m \u001b[1;32mNone\u001b[0m \u001b[1;32mand\u001b[0m\u001b[1;33m\u001b[0m\u001b[1;33m\u001b[0m\u001b[0m\n\u001b[0;32m    347\u001b[0m             parse_constant is None and object_pairs_hook is None and not kw):\n\u001b[1;32m--> 348\u001b[1;33m         \u001b[1;32mreturn\u001b[0m \u001b[0m_default_decoder\u001b[0m\u001b[1;33m.\u001b[0m\u001b[0mdecode\u001b[0m\u001b[1;33m(\u001b[0m\u001b[0ms\u001b[0m\u001b[1;33m)\u001b[0m\u001b[1;33m\u001b[0m\u001b[1;33m\u001b[0m\u001b[0m\n\u001b[0m\u001b[0;32m    349\u001b[0m     \u001b[1;32mif\u001b[0m \u001b[0mcls\u001b[0m \u001b[1;32mis\u001b[0m \u001b[1;32mNone\u001b[0m\u001b[1;33m:\u001b[0m\u001b[1;33m\u001b[0m\u001b[1;33m\u001b[0m\u001b[0m\n\u001b[0;32m    350\u001b[0m         \u001b[0mcls\u001b[0m \u001b[1;33m=\u001b[0m \u001b[0mJSONDecoder\u001b[0m\u001b[1;33m\u001b[0m\u001b[1;33m\u001b[0m\u001b[0m\n",
      "\u001b[1;32m~\\AppData\\Local\\Continuum\\anaconda3\\lib\\json\\decoder.py\u001b[0m in \u001b[0;36mdecode\u001b[1;34m(self, s, _w)\u001b[0m\n\u001b[0;32m    335\u001b[0m \u001b[1;33m\u001b[0m\u001b[0m\n\u001b[0;32m    336\u001b[0m         \"\"\"\n\u001b[1;32m--> 337\u001b[1;33m         \u001b[0mobj\u001b[0m\u001b[1;33m,\u001b[0m \u001b[0mend\u001b[0m \u001b[1;33m=\u001b[0m \u001b[0mself\u001b[0m\u001b[1;33m.\u001b[0m\u001b[0mraw_decode\u001b[0m\u001b[1;33m(\u001b[0m\u001b[0ms\u001b[0m\u001b[1;33m,\u001b[0m \u001b[0midx\u001b[0m\u001b[1;33m=\u001b[0m\u001b[0m_w\u001b[0m\u001b[1;33m(\u001b[0m\u001b[0ms\u001b[0m\u001b[1;33m,\u001b[0m \u001b[1;36m0\u001b[0m\u001b[1;33m)\u001b[0m\u001b[1;33m.\u001b[0m\u001b[0mend\u001b[0m\u001b[1;33m(\u001b[0m\u001b[1;33m)\u001b[0m\u001b[1;33m)\u001b[0m\u001b[1;33m\u001b[0m\u001b[1;33m\u001b[0m\u001b[0m\n\u001b[0m\u001b[0;32m    338\u001b[0m         \u001b[0mend\u001b[0m \u001b[1;33m=\u001b[0m \u001b[0m_w\u001b[0m\u001b[1;33m(\u001b[0m\u001b[0ms\u001b[0m\u001b[1;33m,\u001b[0m \u001b[0mend\u001b[0m\u001b[1;33m)\u001b[0m\u001b[1;33m.\u001b[0m\u001b[0mend\u001b[0m\u001b[1;33m(\u001b[0m\u001b[1;33m)\u001b[0m\u001b[1;33m\u001b[0m\u001b[1;33m\u001b[0m\u001b[0m\n\u001b[0;32m    339\u001b[0m         \u001b[1;32mif\u001b[0m \u001b[0mend\u001b[0m \u001b[1;33m!=\u001b[0m \u001b[0mlen\u001b[0m\u001b[1;33m(\u001b[0m\u001b[0ms\u001b[0m\u001b[1;33m)\u001b[0m\u001b[1;33m:\u001b[0m\u001b[1;33m\u001b[0m\u001b[1;33m\u001b[0m\u001b[0m\n",
      "\u001b[1;32m~\\AppData\\Local\\Continuum\\anaconda3\\lib\\json\\decoder.py\u001b[0m in \u001b[0;36mraw_decode\u001b[1;34m(self, s, idx)\u001b[0m\n\u001b[0;32m    351\u001b[0m         \"\"\"\n\u001b[0;32m    352\u001b[0m         \u001b[1;32mtry\u001b[0m\u001b[1;33m:\u001b[0m\u001b[1;33m\u001b[0m\u001b[1;33m\u001b[0m\u001b[0m\n\u001b[1;32m--> 353\u001b[1;33m             \u001b[0mobj\u001b[0m\u001b[1;33m,\u001b[0m \u001b[0mend\u001b[0m \u001b[1;33m=\u001b[0m \u001b[0mself\u001b[0m\u001b[1;33m.\u001b[0m\u001b[0mscan_once\u001b[0m\u001b[1;33m(\u001b[0m\u001b[0ms\u001b[0m\u001b[1;33m,\u001b[0m \u001b[0midx\u001b[0m\u001b[1;33m)\u001b[0m\u001b[1;33m\u001b[0m\u001b[1;33m\u001b[0m\u001b[0m\n\u001b[0m\u001b[0;32m    354\u001b[0m         \u001b[1;32mexcept\u001b[0m \u001b[0mStopIteration\u001b[0m \u001b[1;32mas\u001b[0m \u001b[0merr\u001b[0m\u001b[1;33m:\u001b[0m\u001b[1;33m\u001b[0m\u001b[1;33m\u001b[0m\u001b[0m\n\u001b[0;32m    355\u001b[0m             \u001b[1;32mraise\u001b[0m \u001b[0mJSONDecodeError\u001b[0m\u001b[1;33m(\u001b[0m\u001b[1;34m\"Expecting value\"\u001b[0m\u001b[1;33m,\u001b[0m \u001b[0ms\u001b[0m\u001b[1;33m,\u001b[0m \u001b[0merr\u001b[0m\u001b[1;33m.\u001b[0m\u001b[0mvalue\u001b[0m\u001b[1;33m)\u001b[0m \u001b[1;32mfrom\u001b[0m \u001b[1;32mNone\u001b[0m\u001b[1;33m\u001b[0m\u001b[1;33m\u001b[0m\u001b[0m\n",
      "\u001b[1;31mJSONDecodeError\u001b[0m: Unterminated string starting at: line 1 column 198173 (char 198172)"
     ]
    }
   ],
   "source": [
    "import time\n",
    "from IPython.core.display import clear_output\n",
    "\n",
    "responses = []\n",
    "\n",
    "page = 1\n",
    "total_pages = 100\n",
    "\n",
    "def lastfm_get(payload):\n",
    "    header = {'user-agent': USER_AGENT}\n",
    "    url = 'http://ws.audioscrobbler.com/2.0/'\n",
    "    \n",
    "    payload['api_key'] = API_KEY\n",
    "    payload['format'] = 'json'\n",
    "    \n",
    "    return requests.get(url, headers=header, params=payload)\n",
    "\n",
    "while page <= total_pages:\n",
    "    payload = {\n",
    "        'method': 'chart.gettopartists',\n",
    "        'limit': 500,\n",
    "        'page': page\n",
    "    }\n",
    "    \n",
    "    print(\"Requesting page {}/{}\".format(page, total_pages))\n",
    "    \n",
    "    clear_output(wait=True)\n",
    "    \n",
    "    response = lastfm_get(payload)\n",
    "    \n",
    "    if response.status_code != 200:\n",
    "        print(response.text)\n",
    "        break\n",
    "        \n",
    "    page = int(response.json()['artists']['@attr']['page'])\n",
    "    \n",
    "    #total_pages = int(response.json()['artists']['@attr']['totalPages'])\n",
    "    \n",
    "    responses.append(response)\n",
    "    \n",
    "    if not getattr(response, 'from_cache', False):\n",
    "        time.sleep(0.25)\n",
    "        \n",
    "    page += 1"
   ]
  },
  {
   "cell_type": "code",
   "execution_count": null,
   "metadata": {},
   "outputs": [],
   "source": [
    "import pandas as pd\n",
    "\n",
    "r0 = responses[0]\n",
    "r0_json = r0.json()\n",
    "r0_artists = r0_json['artists']['artist']\n",
    "r0_df = pd.DataFrame(r0_artists)\n",
    "r0_df.head()"
   ]
  },
  {
   "cell_type": "code",
   "execution_count": null,
   "metadata": {},
   "outputs": [],
   "source": [
    "frames = [pd.DataFrame(r.json()['artists']['artist']) for r in responses]\n",
    "artists = pd.concat(frames)\n",
    "artists.head()"
   ]
  },
  {
   "cell_type": "code",
   "execution_count": 52,
   "metadata": {},
   "outputs": [
    {
     "name": "stdout",
     "output_type": "stream",
     "text": [
      "{\n",
      "    \"toptags\": {\n",
      "        \"@attr\": {\n",
      "            \"artist\": \"Lana Del Rey\"\n",
      "        },\n",
      "        \"tag\": [\n",
      "            {\n",
      "                \"count\": 100,\n",
      "                \"name\": \"female vocalists\",\n",
      "                \"url\": \"https://www.last.fm/tag/female+vocalists\"\n",
      "            },\n",
      "            {\n",
      "                \"count\": 93,\n",
      "                \"name\": \"indie\",\n",
      "                \"url\": \"https://www.last.fm/tag/indie\"\n",
      "            },\n",
      "            {\n",
      "                \"count\": 89,\n",
      "                \"name\": \"indie pop\",\n",
      "                \"url\": \"https://www.last.fm/tag/indie+pop\"\n",
      "            },\n",
      "            {\n",
      "                \"count\": 80,\n",
      "                \"name\": \"pop\",\n",
      "                \"url\": \"https://www.last.fm/tag/pop\"\n",
      "            },\n",
      "            {\n",
      "                \"count\": 66,\n",
      "                \"name\": \"alternative\",\n",
      "                \"url\": \"https://www.last.fm/tag/alternative\"\n",
      "            },\n",
      "            {\n",
      "                \"count\": 14,\n",
      "                \"name\": \"american\",\n",
      "                \"url\": \"https://www.last.fm/tag/american\"\n",
      "            },\n",
      "            {\n",
      "                \"count\": 14,\n",
      "                \"name\": \"dream pop\",\n",
      "                \"url\": \"https://www.last.fm/tag/dream+pop\"\n",
      "            },\n",
      "            {\n",
      "                \"count\": 12,\n",
      "                \"name\": \"seen live\",\n",
      "                \"url\": \"https://www.last.fm/tag/seen+live\"\n",
      "            },\n",
      "            {\n",
      "                \"count\": 10,\n",
      "                \"name\": \"singer-songwriter\",\n",
      "                \"url\": \"https://www.last.fm/tag/singer-songwriter\"\n",
      "            },\n",
      "            {\n",
      "                \"count\": 10,\n",
      "                \"name\": \"trip-hop\",\n",
      "                \"url\": \"https://www.last.fm/tag/trip-hop\"\n",
      "            },\n",
      "            {\n",
      "                \"count\": 7,\n",
      "                \"name\": \"cult\",\n",
      "                \"url\": \"https://www.last.fm/tag/cult\"\n",
      "            },\n",
      "            {\n",
      "                \"count\": 7,\n",
      "                \"name\": \"sadcore\",\n",
      "                \"url\": \"https://www.last.fm/tag/sadcore\"\n",
      "            },\n",
      "            {\n",
      "                \"count\": 7,\n",
      "                \"name\": \"legend\",\n",
      "                \"url\": \"https://www.last.fm/tag/legend\"\n",
      "            },\n",
      "            {\n",
      "                \"count\": 6,\n",
      "                \"name\": \"chamber pop\",\n",
      "                \"url\": \"https://www.last.fm/tag/chamber+pop\"\n",
      "            },\n",
      "            {\n",
      "                \"count\": 6,\n",
      "                \"name\": \"Lana Del Rey\",\n",
      "                \"url\": \"https://www.last.fm/tag/Lana+Del+Rey\"\n",
      "            },\n",
      "            {\n",
      "                \"count\": 5,\n",
      "                \"name\": \"baroque pop\",\n",
      "                \"url\": \"https://www.last.fm/tag/baroque+pop\"\n",
      "            },\n",
      "            {\n",
      "                \"count\": 4,\n",
      "                \"name\": \"female vocalist\",\n",
      "                \"url\": \"https://www.last.fm/tag/female+vocalist\"\n",
      "            },\n",
      "            {\n",
      "                \"count\": 4,\n",
      "                \"name\": \"alternative pop\",\n",
      "                \"url\": \"https://www.last.fm/tag/alternative+pop\"\n",
      "            },\n",
      "            {\n",
      "                \"count\": 4,\n",
      "                \"name\": \"Retro\",\n",
      "                \"url\": \"https://www.last.fm/tag/Retro\"\n",
      "            },\n",
      "            {\n",
      "                \"count\": 4,\n",
      "                \"name\": \"art pop\",\n",
      "                \"url\": \"https://www.last.fm/tag/art+pop\"\n",
      "            },\n",
      "            {\n",
      "                \"count\": 3,\n",
      "                \"name\": \"chillout\",\n",
      "                \"url\": \"https://www.last.fm/tag/chillout\"\n",
      "            },\n",
      "            {\n",
      "                \"count\": 3,\n",
      "                \"name\": \"soul\",\n",
      "                \"url\": \"https://www.last.fm/tag/soul\"\n",
      "            },\n",
      "            {\n",
      "                \"count\": 3,\n",
      "                \"name\": \"USA\",\n",
      "                \"url\": \"https://www.last.fm/tag/USA\"\n",
      "            },\n",
      "            {\n",
      "                \"count\": 3,\n",
      "                \"name\": \"sexy\",\n",
      "                \"url\": \"https://www.last.fm/tag/sexy\"\n",
      "            },\n",
      "            {\n",
      "                \"count\": 2,\n",
      "                \"name\": \"new york\",\n",
      "                \"url\": \"https://www.last.fm/tag/new+york\"\n",
      "            },\n",
      "            {\n",
      "                \"count\": 2,\n",
      "                \"name\": \"rock\",\n",
      "                \"url\": \"https://www.last.fm/tag/rock\"\n",
      "            },\n",
      "            {\n",
      "                \"count\": 2,\n",
      "                \"name\": \"trip hop\",\n",
      "                \"url\": \"https://www.last.fm/tag/trip+hop\"\n",
      "            },\n",
      "            {\n",
      "                \"count\": 2,\n",
      "                \"name\": \"hollywood sadcore\",\n",
      "                \"url\": \"https://www.last.fm/tag/hollywood+sadcore\"\n",
      "            },\n",
      "            {\n",
      "                \"count\": 2,\n",
      "                \"name\": \"indie rock\",\n",
      "                \"url\": \"https://www.last.fm/tag/indie+rock\"\n",
      "            },\n",
      "            {\n",
      "                \"count\": 2,\n",
      "                \"name\": \"female\",\n",
      "                \"url\": \"https://www.last.fm/tag/female\"\n",
      "            },\n",
      "            {\n",
      "                \"count\": 2,\n",
      "                \"name\": \"jazz\",\n",
      "                \"url\": \"https://www.last.fm/tag/jazz\"\n",
      "            },\n",
      "            {\n",
      "                \"count\": 2,\n",
      "                \"name\": \"10s\",\n",
      "                \"url\": \"https://www.last.fm/tag/10s\"\n",
      "            },\n",
      "            {\n",
      "                \"count\": 2,\n",
      "                \"name\": \"folk\",\n",
      "                \"url\": \"https://www.last.fm/tag/folk\"\n",
      "            },\n",
      "            {\n",
      "                \"count\": 2,\n",
      "                \"name\": \"lana\",\n",
      "                \"url\": \"https://www.last.fm/tag/lana\"\n",
      "            },\n",
      "            {\n",
      "                \"count\": 2,\n",
      "                \"name\": \"electronic\",\n",
      "                \"url\": \"https://www.last.fm/tag/electronic\"\n",
      "            },\n",
      "            {\n",
      "                \"count\": 2,\n",
      "                \"name\": \"blues\",\n",
      "                \"url\": \"https://www.last.fm/tag/blues\"\n",
      "            },\n",
      "            {\n",
      "                \"count\": 2,\n",
      "                \"name\": \"2010s\",\n",
      "                \"url\": \"https://www.last.fm/tag/2010s\"\n",
      "            },\n",
      "            {\n",
      "                \"count\": 2,\n",
      "                \"name\": \"vintage\",\n",
      "                \"url\": \"https://www.last.fm/tag/vintage\"\n",
      "            },\n",
      "            {\n",
      "                \"count\": 2,\n",
      "                \"name\": \"alternative rock\",\n",
      "                \"url\": \"https://www.last.fm/tag/alternative+rock\"\n",
      "            },\n",
      "            {\n",
      "                \"count\": 2,\n",
      "                \"name\": \"overrated\",\n",
      "                \"url\": \"https://www.last.fm/tag/overrated\"\n",
      "            },\n",
      "            {\n",
      "                \"count\": 2,\n",
      "                \"name\": \"retro pop\",\n",
      "                \"url\": \"https://www.last.fm/tag/retro+pop\"\n",
      "            },\n",
      "            {\n",
      "                \"count\": 2,\n",
      "                \"name\": \"beautiful\",\n",
      "                \"url\": \"https://www.last.fm/tag/beautiful\"\n",
      "            },\n",
      "            {\n",
      "                \"count\": 2,\n",
      "                \"name\": \"melancholic\",\n",
      "                \"url\": \"https://www.last.fm/tag/melancholic\"\n",
      "            },\n",
      "            {\n",
      "                \"count\": 1,\n",
      "                \"name\": \"americana\",\n",
      "                \"url\": \"https://www.last.fm/tag/americana\"\n",
      "            },\n",
      "            {\n",
      "                \"count\": 1,\n",
      "                \"name\": \"dark pop\",\n",
      "                \"url\": \"https://www.last.fm/tag/dark+pop\"\n",
      "            },\n",
      "            {\n",
      "                \"count\": 1,\n",
      "                \"name\": \"Hollywood Pop\",\n",
      "                \"url\": \"https://www.last.fm/tag/Hollywood+Pop\"\n",
      "            },\n",
      "            {\n",
      "                \"count\": 1,\n",
      "                \"name\": \"chill\",\n",
      "                \"url\": \"https://www.last.fm/tag/chill\"\n",
      "            },\n",
      "            {\n",
      "                \"count\": 1,\n",
      "                \"name\": \"sad\",\n",
      "                \"url\": \"https://www.last.fm/tag/sad\"\n",
      "            },\n",
      "            {\n",
      "                \"count\": 1,\n",
      "                \"name\": \"diva\",\n",
      "                \"url\": \"https://www.last.fm/tag/diva\"\n",
      "            }\n",
      "        ]\n",
      "    }\n",
      "}\n"
     ]
    }
   ],
   "source": [
    "r = lastfm_get({'method': 'artist.getTopTags', 'artist': 'Lana Del Rey'})\n",
    "jprint(r.json())"
   ]
  },
  {
   "cell_type": "code",
   "execution_count": 53,
   "metadata": {},
   "outputs": [
    {
     "data": {
      "text/plain": [
       "['female vocalists', 'indie', 'indie pop']"
      ]
     },
     "execution_count": 53,
     "metadata": {},
     "output_type": "execute_result"
    }
   ],
   "source": [
    "tags = [t['name'] for t in r.json()['toptags']['tag'][:3]]\n",
    "tags"
   ]
  },
  {
   "cell_type": "code",
   "execution_count": 54,
   "metadata": {},
   "outputs": [
    {
     "data": {
      "text/plain": [
       "'female vocalists, indie, indie pop'"
      ]
     },
     "execution_count": 54,
     "metadata": {},
     "output_type": "execute_result"
    }
   ],
   "source": [
    "', '.join(tags)"
   ]
  },
  {
   "cell_type": "code",
   "execution_count": 55,
   "metadata": {},
   "outputs": [],
   "source": [
    "def lookup_tags(artist):\n",
    "    response = lastfm_get({\n",
    "        'method': 'artist.getTopTags',\n",
    "        'artist': artist\n",
    "    })\n",
    "    \n",
    "    if response.status_code != 200:\n",
    "        return None\n",
    "    \n",
    "    tags = [t['name'] for t in r.json()['toptags']['tag'][:3]]\n",
    "    tags_str = ', '.join(tags)\n",
    "    \n",
    "    if not getattr(response, 'from_cache', False):\n",
    "        time.sleep(0.25)\n",
    "    return tags_str"
   ]
  },
  {
   "cell_type": "code",
   "execution_count": 56,
   "metadata": {},
   "outputs": [
    {
     "data": {
      "text/plain": [
       "'female vocalists, indie, indie pop'"
      ]
     },
     "execution_count": 56,
     "metadata": {},
     "output_type": "execute_result"
    }
   ],
   "source": [
    "lookup_tags('Billie Eilish')"
   ]
  },
  {
   "cell_type": "code",
   "execution_count": 57,
   "metadata": {},
   "outputs": [],
   "source": [
    "from tqdm import tqdm"
   ]
  },
  {
   "cell_type": "code",
   "execution_count": 2,
   "metadata": {},
   "outputs": [
    {
     "ename": "NameError",
     "evalue": "name 'tqdm' is not defined",
     "output_type": "error",
     "traceback": [
      "\u001b[1;31m---------------------------------------------------------------------------\u001b[0m",
      "\u001b[1;31mNameError\u001b[0m                                 Traceback (most recent call last)",
      "\u001b[1;32m<ipython-input-2-cfd02bb5319f>\u001b[0m in \u001b[0;36m<module>\u001b[1;34m\u001b[0m\n\u001b[1;32m----> 1\u001b[1;33m \u001b[0mtqdm\u001b[0m\u001b[1;33m.\u001b[0m\u001b[0mpandas\u001b[0m\u001b[1;33m(\u001b[0m\u001b[1;33m)\u001b[0m\u001b[1;33m\u001b[0m\u001b[1;33m\u001b[0m\u001b[0m\n\u001b[0m\u001b[0;32m      2\u001b[0m \u001b[1;33m\u001b[0m\u001b[0m\n\u001b[0;32m      3\u001b[0m \u001b[0mdf\u001b[0m \u001b[1;33m=\u001b[0m \u001b[0martists\u001b[0m\u001b[1;33m.\u001b[0m\u001b[0mhead\u001b[0m\u001b[1;33m(\u001b[0m\u001b[1;36m100\u001b[0m\u001b[1;33m)\u001b[0m\u001b[1;33m\u001b[0m\u001b[1;33m\u001b[0m\u001b[0m\n\u001b[0;32m      4\u001b[0m \u001b[0mdf\u001b[0m\u001b[1;33m.\u001b[0m\u001b[0mprogress_apply\u001b[0m\u001b[1;33m(\u001b[0m\u001b[0mlookup_tags\u001b[0m\u001b[1;33m)\u001b[0m\u001b[1;33m\u001b[0m\u001b[1;33m\u001b[0m\u001b[0m\n",
      "\u001b[1;31mNameError\u001b[0m: name 'tqdm' is not defined"
     ]
    }
   ],
   "source": [
    "tqdm.pandas()\n",
    "\n",
    "df = artists.head(100)\n",
    "df.progress_apply(lookup_tags)"
   ]
  },
  {
   "cell_type": "code",
   "execution_count": 1,
   "metadata": {},
   "outputs": [
    {
     "ename": "NameError",
     "evalue": "name 'df' is not defined",
     "output_type": "error",
     "traceback": [
      "\u001b[1;31m---------------------------------------------------------------------------\u001b[0m",
      "\u001b[1;31mNameError\u001b[0m                                 Traceback (most recent call last)",
      "\u001b[1;32m<ipython-input-1-c42a15b2c7cf>\u001b[0m in \u001b[0;36m<module>\u001b[1;34m\u001b[0m\n\u001b[1;32m----> 1\u001b[1;33m \u001b[0mdf\u001b[0m\u001b[1;33m.\u001b[0m\u001b[0mhead\u001b[0m\u001b[1;33m(\u001b[0m\u001b[1;33m)\u001b[0m\u001b[1;33m\u001b[0m\u001b[1;33m\u001b[0m\u001b[0m\n\u001b[0m",
      "\u001b[1;31mNameError\u001b[0m: name 'df' is not defined"
     ]
    }
   ],
   "source": [
    "df.head()"
   ]
  },
  {
   "cell_type": "code",
   "execution_count": null,
   "metadata": {},
   "outputs": [],
   "source": []
  }
 ],
 "metadata": {
  "kernelspec": {
   "display_name": "Python 3",
   "language": "python",
   "name": "python3"
  },
  "language_info": {
   "codemirror_mode": {
    "name": "ipython",
    "version": 3
   },
   "file_extension": ".py",
   "mimetype": "text/x-python",
   "name": "python",
   "nbconvert_exporter": "python",
   "pygments_lexer": "ipython3",
   "version": "3.7.4"
  }
 },
 "nbformat": 4,
 "nbformat_minor": 2
}
