{
 "cells": [
  {
   "cell_type": "code",
   "execution_count": 3,
   "metadata": {},
   "outputs": [],
   "source": [
    "import requests\n",
    "import json"
   ]
  },
  {
   "cell_type": "code",
   "execution_count": 4,
   "metadata": {},
   "outputs": [],
   "source": [
    "def jprint(obj):\n",
    "    text = json.dumps(obj, sort_keys=True, indent=4)\n",
    "    print(text)"
   ]
  },
  {
   "cell_type": "code",
   "execution_count": 5,
   "metadata": {},
   "outputs": [],
   "source": [
    "url = \"http://api.open-notify.org\""
   ]
  },
  {
   "cell_type": "code",
   "execution_count": 6,
   "metadata": {},
   "outputs": [],
   "source": [
    "response = requests.get(url + \"/astros.json\")"
   ]
  },
  {
   "cell_type": "code",
   "execution_count": 7,
   "metadata": {},
   "outputs": [],
   "source": [
    "param = {\"lat\":40.71, \"lon\":-74}"
   ]
  },
  {
   "cell_type": "code",
   "execution_count": 8,
   "metadata": {},
   "outputs": [],
   "source": [
    "response = requests.get(url + \"/iss-pass.json\", params=param)"
   ]
  },
  {
   "cell_type": "code",
   "execution_count": 9,
   "metadata": {},
   "outputs": [
    {
     "data": {
      "text/plain": [
       "200"
      ]
     },
     "execution_count": 9,
     "metadata": {},
     "output_type": "execute_result"
    }
   ],
   "source": [
    "response.status_code"
   ]
  },
  {
   "cell_type": "code",
   "execution_count": 10,
   "metadata": {},
   "outputs": [
    {
     "name": "stdout",
     "output_type": "stream",
     "text": [
      "{\n",
      "    \"message\": \"success\",\n",
      "    \"request\": {\n",
      "        \"altitude\": 100,\n",
      "        \"datetime\": 1584409949,\n",
      "        \"latitude\": 40.71,\n",
      "        \"longitude\": -74.0,\n",
      "        \"passes\": 5\n",
      "    },\n",
      "    \"response\": [\n",
      "        {\n",
      "            \"duration\": 634,\n",
      "            \"risetime\": 1584412227\n",
      "        },\n",
      "        {\n",
      "            \"duration\": 566,\n",
      "            \"risetime\": 1584418115\n",
      "        },\n",
      "        {\n",
      "            \"duration\": 582,\n",
      "            \"risetime\": 1584423978\n",
      "        },\n",
      "        {\n",
      "            \"duration\": 650,\n",
      "            \"risetime\": 1584429787\n",
      "        },\n",
      "        {\n",
      "            \"duration\": 589,\n",
      "            \"risetime\": 1584435609\n",
      "        }\n",
      "    ]\n",
      "}\n"
     ]
    }
   ],
   "source": [
    "jprint(response.json())"
   ]
  },
  {
   "cell_type": "code",
   "execution_count": 11,
   "metadata": {},
   "outputs": [
    {
     "name": "stdout",
     "output_type": "stream",
     "text": [
      "[\n",
      "    {\n",
      "        \"duration\": 634,\n",
      "        \"risetime\": 1584412227\n",
      "    },\n",
      "    {\n",
      "        \"duration\": 566,\n",
      "        \"risetime\": 1584418115\n",
      "    },\n",
      "    {\n",
      "        \"duration\": 582,\n",
      "        \"risetime\": 1584423978\n",
      "    },\n",
      "    {\n",
      "        \"duration\": 650,\n",
      "        \"risetime\": 1584429787\n",
      "    },\n",
      "    {\n",
      "        \"duration\": 589,\n",
      "        \"risetime\": 1584435609\n",
      "    }\n",
      "]\n"
     ]
    }
   ],
   "source": [
    "pass_times = response.json()['response']\n",
    "jprint(pass_times)"
   ]
  },
  {
   "cell_type": "code",
   "execution_count": 12,
   "metadata": {},
   "outputs": [],
   "source": [
    "risetimes = []\n",
    "for d in pass_times:\n",
    "    time = d['risetime']\n",
    "    risetimes.append(time)"
   ]
  },
  {
   "cell_type": "code",
   "execution_count": 13,
   "metadata": {},
   "outputs": [
    {
     "name": "stdout",
     "output_type": "stream",
     "text": [
      "[1584412227, 1584418115, 1584423978, 1584429787, 1584435609]\n"
     ]
    }
   ],
   "source": [
    "print(risetimes)"
   ]
  },
  {
   "cell_type": "code",
   "execution_count": 14,
   "metadata": {},
   "outputs": [
    {
     "name": "stdout",
     "output_type": "stream",
     "text": [
      "2020-03-17 09:30:27\n",
      "2020-03-17 11:08:35\n",
      "2020-03-17 12:46:18\n",
      "2020-03-17 14:23:07\n",
      "2020-03-17 16:00:09\n"
     ]
    }
   ],
   "source": [
    "from datetime import datetime\n",
    "\n",
    "times = []\n",
    "for rt in risetimes:\n",
    "    time = datetime.fromtimestamp(rt)\n",
    "    times.append(time)\n",
    "    print(time)"
   ]
  },
  {
   "cell_type": "code",
   "execution_count": 40,
   "metadata": {},
   "outputs": [],
   "source": [
    "API_KEY = '66d52336dc3e35bd3adfb570b791362a'\n",
    "USER_AGENT = 'sirapop25'"
   ]
  },
  {
   "cell_type": "code",
   "execution_count": 43,
   "metadata": {},
   "outputs": [],
   "source": [
    "header = {'user-agent': USER_AGENT}\n",
    "\n",
    "payload = {\n",
    "    'api_key': API_KEY,\n",
    "    'method': 'chart.gettopartists', \n",
    "    'format': 'json'\n",
    "}\n",
    "\n",
    "r = requests.get('http://ws.audioscrobbler.com/2.0/', headers=header, params=payload)"
   ]
  },
  {
   "cell_type": "code",
   "execution_count": 44,
   "metadata": {},
   "outputs": [
    {
     "data": {
      "text/plain": [
       "200"
      ]
     },
     "execution_count": 44,
     "metadata": {},
     "output_type": "execute_result"
    }
   ],
   "source": [
    "r.status_code"
   ]
  },
  {
   "cell_type": "code",
   "execution_count": 45,
   "metadata": {},
   "outputs": [
    {
     "data": {
      "text/plain": [
       "<Response [200]>"
      ]
     },
     "execution_count": 45,
     "metadata": {},
     "output_type": "execute_result"
    }
   ],
   "source": [
    "r"
   ]
  },
  {
   "cell_type": "code",
   "execution_count": 46,
   "metadata": {},
   "outputs": [
    {
     "name": "stdout",
     "output_type": "stream",
     "text": [
      "{\n",
      "    \"page\": \"1\",\n",
      "    \"perPage\": \"50\",\n",
      "    \"total\": \"3139814\",\n",
      "    \"totalPages\": \"62797\"\n",
      "}\n"
     ]
    }
   ],
   "source": [
    "jprint(r.json()['artists']['@attr'])"
   ]
  },
  {
   "cell_type": "code",
   "execution_count": 47,
   "metadata": {},
   "outputs": [
    {
     "ename": "KeyboardInterrupt",
     "evalue": "",
     "output_type": "error",
     "traceback": [
      "\u001b[1;31m---------------------------------------------------------------------------\u001b[0m",
      "\u001b[1;31mTypeError\u001b[0m                                 Traceback (most recent call last)",
      "\u001b[1;32m~\\AppData\\Local\\Continuum\\anaconda3\\lib\\site-packages\\urllib3\\connectionpool.py\u001b[0m in \u001b[0;36m_make_request\u001b[1;34m(self, conn, method, url, timeout, chunked, **httplib_request_kw)\u001b[0m\n\u001b[0;32m    376\u001b[0m             \u001b[1;32mtry\u001b[0m\u001b[1;33m:\u001b[0m  \u001b[1;31m# Python 2.7, use buffering of HTTP responses\u001b[0m\u001b[1;33m\u001b[0m\u001b[1;33m\u001b[0m\u001b[0m\n\u001b[1;32m--> 377\u001b[1;33m                 \u001b[0mhttplib_response\u001b[0m \u001b[1;33m=\u001b[0m \u001b[0mconn\u001b[0m\u001b[1;33m.\u001b[0m\u001b[0mgetresponse\u001b[0m\u001b[1;33m(\u001b[0m\u001b[0mbuffering\u001b[0m\u001b[1;33m=\u001b[0m\u001b[1;32mTrue\u001b[0m\u001b[1;33m)\u001b[0m\u001b[1;33m\u001b[0m\u001b[1;33m\u001b[0m\u001b[0m\n\u001b[0m\u001b[0;32m    378\u001b[0m             \u001b[1;32mexcept\u001b[0m \u001b[0mTypeError\u001b[0m\u001b[1;33m:\u001b[0m  \u001b[1;31m# Python 3\u001b[0m\u001b[1;33m\u001b[0m\u001b[1;33m\u001b[0m\u001b[0m\n",
      "\u001b[1;31mTypeError\u001b[0m: getresponse() got an unexpected keyword argument 'buffering'",
      "\nDuring handling of the above exception, another exception occurred:\n",
      "\u001b[1;31mKeyboardInterrupt\u001b[0m                         Traceback (most recent call last)",
      "\u001b[1;32m<ipython-input-47-8a8fbbaf16ce>\u001b[0m in \u001b[0;36m<module>\u001b[1;34m\u001b[0m\n\u001b[0;32m     27\u001b[0m     \u001b[0mclear_output\u001b[0m\u001b[1;33m(\u001b[0m\u001b[0mwait\u001b[0m\u001b[1;33m=\u001b[0m\u001b[1;32mTrue\u001b[0m\u001b[1;33m)\u001b[0m\u001b[1;33m\u001b[0m\u001b[1;33m\u001b[0m\u001b[0m\n\u001b[0;32m     28\u001b[0m \u001b[1;33m\u001b[0m\u001b[0m\n\u001b[1;32m---> 29\u001b[1;33m     \u001b[0mresponse\u001b[0m \u001b[1;33m=\u001b[0m \u001b[0mlastfm_get\u001b[0m\u001b[1;33m(\u001b[0m\u001b[0mpayload\u001b[0m\u001b[1;33m)\u001b[0m\u001b[1;33m\u001b[0m\u001b[1;33m\u001b[0m\u001b[0m\n\u001b[0m\u001b[0;32m     30\u001b[0m \u001b[1;33m\u001b[0m\u001b[0m\n\u001b[0;32m     31\u001b[0m     \u001b[1;32mif\u001b[0m \u001b[0mresponse\u001b[0m\u001b[1;33m.\u001b[0m\u001b[0mstatus_code\u001b[0m \u001b[1;33m!=\u001b[0m \u001b[1;36m200\u001b[0m\u001b[1;33m:\u001b[0m\u001b[1;33m\u001b[0m\u001b[1;33m\u001b[0m\u001b[0m\n",
      "\u001b[1;32m<ipython-input-47-8a8fbbaf16ce>\u001b[0m in \u001b[0;36mlastfm_get\u001b[1;34m(payload)\u001b[0m\n\u001b[0;32m     14\u001b[0m     \u001b[0mpayload\u001b[0m\u001b[1;33m[\u001b[0m\u001b[1;34m'format'\u001b[0m\u001b[1;33m]\u001b[0m \u001b[1;33m=\u001b[0m \u001b[1;34m'json'\u001b[0m\u001b[1;33m\u001b[0m\u001b[1;33m\u001b[0m\u001b[0m\n\u001b[0;32m     15\u001b[0m \u001b[1;33m\u001b[0m\u001b[0m\n\u001b[1;32m---> 16\u001b[1;33m     \u001b[1;32mreturn\u001b[0m \u001b[0mrequests\u001b[0m\u001b[1;33m.\u001b[0m\u001b[0mget\u001b[0m\u001b[1;33m(\u001b[0m\u001b[0murl\u001b[0m\u001b[1;33m,\u001b[0m \u001b[0mheaders\u001b[0m\u001b[1;33m=\u001b[0m\u001b[0mheader\u001b[0m\u001b[1;33m,\u001b[0m \u001b[0mparams\u001b[0m\u001b[1;33m=\u001b[0m\u001b[0mpayload\u001b[0m\u001b[1;33m)\u001b[0m\u001b[1;33m\u001b[0m\u001b[1;33m\u001b[0m\u001b[0m\n\u001b[0m\u001b[0;32m     17\u001b[0m \u001b[1;33m\u001b[0m\u001b[0m\n\u001b[0;32m     18\u001b[0m \u001b[1;32mwhile\u001b[0m \u001b[0mpage\u001b[0m \u001b[1;33m<=\u001b[0m \u001b[0mtotal_pages\u001b[0m\u001b[1;33m:\u001b[0m\u001b[1;33m\u001b[0m\u001b[1;33m\u001b[0m\u001b[0m\n",
      "\u001b[1;32m~\\AppData\\Local\\Continuum\\anaconda3\\lib\\site-packages\\requests\\api.py\u001b[0m in \u001b[0;36mget\u001b[1;34m(url, params, **kwargs)\u001b[0m\n\u001b[0;32m     74\u001b[0m \u001b[1;33m\u001b[0m\u001b[0m\n\u001b[0;32m     75\u001b[0m     \u001b[0mkwargs\u001b[0m\u001b[1;33m.\u001b[0m\u001b[0msetdefault\u001b[0m\u001b[1;33m(\u001b[0m\u001b[1;34m'allow_redirects'\u001b[0m\u001b[1;33m,\u001b[0m \u001b[1;32mTrue\u001b[0m\u001b[1;33m)\u001b[0m\u001b[1;33m\u001b[0m\u001b[1;33m\u001b[0m\u001b[0m\n\u001b[1;32m---> 76\u001b[1;33m     \u001b[1;32mreturn\u001b[0m \u001b[0mrequest\u001b[0m\u001b[1;33m(\u001b[0m\u001b[1;34m'get'\u001b[0m\u001b[1;33m,\u001b[0m \u001b[0murl\u001b[0m\u001b[1;33m,\u001b[0m \u001b[0mparams\u001b[0m\u001b[1;33m=\u001b[0m\u001b[0mparams\u001b[0m\u001b[1;33m,\u001b[0m \u001b[1;33m**\u001b[0m\u001b[0mkwargs\u001b[0m\u001b[1;33m)\u001b[0m\u001b[1;33m\u001b[0m\u001b[1;33m\u001b[0m\u001b[0m\n\u001b[0m\u001b[0;32m     77\u001b[0m \u001b[1;33m\u001b[0m\u001b[0m\n\u001b[0;32m     78\u001b[0m \u001b[1;33m\u001b[0m\u001b[0m\n",
      "\u001b[1;32m~\\AppData\\Local\\Continuum\\anaconda3\\lib\\site-packages\\requests\\api.py\u001b[0m in \u001b[0;36mrequest\u001b[1;34m(method, url, **kwargs)\u001b[0m\n\u001b[0;32m     59\u001b[0m     \u001b[1;31m# cases, and look like a memory leak in others.\u001b[0m\u001b[1;33m\u001b[0m\u001b[1;33m\u001b[0m\u001b[1;33m\u001b[0m\u001b[0m\n\u001b[0;32m     60\u001b[0m     \u001b[1;32mwith\u001b[0m \u001b[0msessions\u001b[0m\u001b[1;33m.\u001b[0m\u001b[0mSession\u001b[0m\u001b[1;33m(\u001b[0m\u001b[1;33m)\u001b[0m \u001b[1;32mas\u001b[0m \u001b[0msession\u001b[0m\u001b[1;33m:\u001b[0m\u001b[1;33m\u001b[0m\u001b[1;33m\u001b[0m\u001b[0m\n\u001b[1;32m---> 61\u001b[1;33m         \u001b[1;32mreturn\u001b[0m \u001b[0msession\u001b[0m\u001b[1;33m.\u001b[0m\u001b[0mrequest\u001b[0m\u001b[1;33m(\u001b[0m\u001b[0mmethod\u001b[0m\u001b[1;33m=\u001b[0m\u001b[0mmethod\u001b[0m\u001b[1;33m,\u001b[0m \u001b[0murl\u001b[0m\u001b[1;33m=\u001b[0m\u001b[0murl\u001b[0m\u001b[1;33m,\u001b[0m \u001b[1;33m**\u001b[0m\u001b[0mkwargs\u001b[0m\u001b[1;33m)\u001b[0m\u001b[1;33m\u001b[0m\u001b[1;33m\u001b[0m\u001b[0m\n\u001b[0m\u001b[0;32m     62\u001b[0m \u001b[1;33m\u001b[0m\u001b[0m\n\u001b[0;32m     63\u001b[0m \u001b[1;33m\u001b[0m\u001b[0m\n",
      "\u001b[1;32m~\\AppData\\Local\\Continuum\\anaconda3\\lib\\site-packages\\requests\\sessions.py\u001b[0m in \u001b[0;36mrequest\u001b[1;34m(self, method, url, params, data, headers, cookies, files, auth, timeout, allow_redirects, proxies, hooks, stream, verify, cert, json)\u001b[0m\n\u001b[0;32m    528\u001b[0m         }\n\u001b[0;32m    529\u001b[0m         \u001b[0msend_kwargs\u001b[0m\u001b[1;33m.\u001b[0m\u001b[0mupdate\u001b[0m\u001b[1;33m(\u001b[0m\u001b[0msettings\u001b[0m\u001b[1;33m)\u001b[0m\u001b[1;33m\u001b[0m\u001b[1;33m\u001b[0m\u001b[0m\n\u001b[1;32m--> 530\u001b[1;33m         \u001b[0mresp\u001b[0m \u001b[1;33m=\u001b[0m \u001b[0mself\u001b[0m\u001b[1;33m.\u001b[0m\u001b[0msend\u001b[0m\u001b[1;33m(\u001b[0m\u001b[0mprep\u001b[0m\u001b[1;33m,\u001b[0m \u001b[1;33m**\u001b[0m\u001b[0msend_kwargs\u001b[0m\u001b[1;33m)\u001b[0m\u001b[1;33m\u001b[0m\u001b[1;33m\u001b[0m\u001b[0m\n\u001b[0m\u001b[0;32m    531\u001b[0m \u001b[1;33m\u001b[0m\u001b[0m\n\u001b[0;32m    532\u001b[0m         \u001b[1;32mreturn\u001b[0m \u001b[0mresp\u001b[0m\u001b[1;33m\u001b[0m\u001b[1;33m\u001b[0m\u001b[0m\n",
      "\u001b[1;32m~\\AppData\\Local\\Continuum\\anaconda3\\lib\\site-packages\\requests\\sessions.py\u001b[0m in \u001b[0;36msend\u001b[1;34m(self, request, **kwargs)\u001b[0m\n\u001b[0;32m    641\u001b[0m \u001b[1;33m\u001b[0m\u001b[0m\n\u001b[0;32m    642\u001b[0m         \u001b[1;31m# Send the request\u001b[0m\u001b[1;33m\u001b[0m\u001b[1;33m\u001b[0m\u001b[1;33m\u001b[0m\u001b[0m\n\u001b[1;32m--> 643\u001b[1;33m         \u001b[0mr\u001b[0m \u001b[1;33m=\u001b[0m \u001b[0madapter\u001b[0m\u001b[1;33m.\u001b[0m\u001b[0msend\u001b[0m\u001b[1;33m(\u001b[0m\u001b[0mrequest\u001b[0m\u001b[1;33m,\u001b[0m \u001b[1;33m**\u001b[0m\u001b[0mkwargs\u001b[0m\u001b[1;33m)\u001b[0m\u001b[1;33m\u001b[0m\u001b[1;33m\u001b[0m\u001b[0m\n\u001b[0m\u001b[0;32m    644\u001b[0m \u001b[1;33m\u001b[0m\u001b[0m\n\u001b[0;32m    645\u001b[0m         \u001b[1;31m# Total elapsed time of the request (approximately)\u001b[0m\u001b[1;33m\u001b[0m\u001b[1;33m\u001b[0m\u001b[1;33m\u001b[0m\u001b[0m\n",
      "\u001b[1;32m~\\AppData\\Local\\Continuum\\anaconda3\\lib\\site-packages\\requests\\adapters.py\u001b[0m in \u001b[0;36msend\u001b[1;34m(self, request, stream, timeout, verify, cert, proxies)\u001b[0m\n\u001b[0;32m    447\u001b[0m                     \u001b[0mdecode_content\u001b[0m\u001b[1;33m=\u001b[0m\u001b[1;32mFalse\u001b[0m\u001b[1;33m,\u001b[0m\u001b[1;33m\u001b[0m\u001b[1;33m\u001b[0m\u001b[0m\n\u001b[0;32m    448\u001b[0m                     \u001b[0mretries\u001b[0m\u001b[1;33m=\u001b[0m\u001b[0mself\u001b[0m\u001b[1;33m.\u001b[0m\u001b[0mmax_retries\u001b[0m\u001b[1;33m,\u001b[0m\u001b[1;33m\u001b[0m\u001b[1;33m\u001b[0m\u001b[0m\n\u001b[1;32m--> 449\u001b[1;33m                     \u001b[0mtimeout\u001b[0m\u001b[1;33m=\u001b[0m\u001b[0mtimeout\u001b[0m\u001b[1;33m\u001b[0m\u001b[1;33m\u001b[0m\u001b[0m\n\u001b[0m\u001b[0;32m    450\u001b[0m                 )\n\u001b[0;32m    451\u001b[0m \u001b[1;33m\u001b[0m\u001b[0m\n",
      "\u001b[1;32m~\\AppData\\Local\\Continuum\\anaconda3\\lib\\site-packages\\urllib3\\connectionpool.py\u001b[0m in \u001b[0;36murlopen\u001b[1;34m(self, method, url, body, headers, retries, redirect, assert_same_host, timeout, pool_timeout, release_conn, chunked, body_pos, **response_kw)\u001b[0m\n\u001b[0;32m    598\u001b[0m                                                   \u001b[0mtimeout\u001b[0m\u001b[1;33m=\u001b[0m\u001b[0mtimeout_obj\u001b[0m\u001b[1;33m,\u001b[0m\u001b[1;33m\u001b[0m\u001b[1;33m\u001b[0m\u001b[0m\n\u001b[0;32m    599\u001b[0m                                                   \u001b[0mbody\u001b[0m\u001b[1;33m=\u001b[0m\u001b[0mbody\u001b[0m\u001b[1;33m,\u001b[0m \u001b[0mheaders\u001b[0m\u001b[1;33m=\u001b[0m\u001b[0mheaders\u001b[0m\u001b[1;33m,\u001b[0m\u001b[1;33m\u001b[0m\u001b[1;33m\u001b[0m\u001b[0m\n\u001b[1;32m--> 600\u001b[1;33m                                                   chunked=chunked)\n\u001b[0m\u001b[0;32m    601\u001b[0m \u001b[1;33m\u001b[0m\u001b[0m\n\u001b[0;32m    602\u001b[0m             \u001b[1;31m# If we're going to release the connection in ``finally:``, then\u001b[0m\u001b[1;33m\u001b[0m\u001b[1;33m\u001b[0m\u001b[1;33m\u001b[0m\u001b[0m\n",
      "\u001b[1;32m~\\AppData\\Local\\Continuum\\anaconda3\\lib\\site-packages\\urllib3\\connectionpool.py\u001b[0m in \u001b[0;36m_make_request\u001b[1;34m(self, conn, method, url, timeout, chunked, **httplib_request_kw)\u001b[0m\n\u001b[0;32m    378\u001b[0m             \u001b[1;32mexcept\u001b[0m \u001b[0mTypeError\u001b[0m\u001b[1;33m:\u001b[0m  \u001b[1;31m# Python 3\u001b[0m\u001b[1;33m\u001b[0m\u001b[1;33m\u001b[0m\u001b[0m\n\u001b[0;32m    379\u001b[0m                 \u001b[1;32mtry\u001b[0m\u001b[1;33m:\u001b[0m\u001b[1;33m\u001b[0m\u001b[1;33m\u001b[0m\u001b[0m\n\u001b[1;32m--> 380\u001b[1;33m                     \u001b[0mhttplib_response\u001b[0m \u001b[1;33m=\u001b[0m \u001b[0mconn\u001b[0m\u001b[1;33m.\u001b[0m\u001b[0mgetresponse\u001b[0m\u001b[1;33m(\u001b[0m\u001b[1;33m)\u001b[0m\u001b[1;33m\u001b[0m\u001b[1;33m\u001b[0m\u001b[0m\n\u001b[0m\u001b[0;32m    381\u001b[0m                 \u001b[1;32mexcept\u001b[0m \u001b[0mException\u001b[0m \u001b[1;32mas\u001b[0m \u001b[0me\u001b[0m\u001b[1;33m:\u001b[0m\u001b[1;33m\u001b[0m\u001b[1;33m\u001b[0m\u001b[0m\n\u001b[0;32m    382\u001b[0m                     \u001b[1;31m# Remove the TypeError from the exception chain in Python 3;\u001b[0m\u001b[1;33m\u001b[0m\u001b[1;33m\u001b[0m\u001b[1;33m\u001b[0m\u001b[0m\n",
      "\u001b[1;32m~\\AppData\\Local\\Continuum\\anaconda3\\lib\\http\\client.py\u001b[0m in \u001b[0;36mgetresponse\u001b[1;34m(self)\u001b[0m\n\u001b[0;32m   1334\u001b[0m         \u001b[1;32mtry\u001b[0m\u001b[1;33m:\u001b[0m\u001b[1;33m\u001b[0m\u001b[1;33m\u001b[0m\u001b[0m\n\u001b[0;32m   1335\u001b[0m             \u001b[1;32mtry\u001b[0m\u001b[1;33m:\u001b[0m\u001b[1;33m\u001b[0m\u001b[1;33m\u001b[0m\u001b[0m\n\u001b[1;32m-> 1336\u001b[1;33m                 \u001b[0mresponse\u001b[0m\u001b[1;33m.\u001b[0m\u001b[0mbegin\u001b[0m\u001b[1;33m(\u001b[0m\u001b[1;33m)\u001b[0m\u001b[1;33m\u001b[0m\u001b[1;33m\u001b[0m\u001b[0m\n\u001b[0m\u001b[0;32m   1337\u001b[0m             \u001b[1;32mexcept\u001b[0m \u001b[0mConnectionError\u001b[0m\u001b[1;33m:\u001b[0m\u001b[1;33m\u001b[0m\u001b[1;33m\u001b[0m\u001b[0m\n\u001b[0;32m   1338\u001b[0m                 \u001b[0mself\u001b[0m\u001b[1;33m.\u001b[0m\u001b[0mclose\u001b[0m\u001b[1;33m(\u001b[0m\u001b[1;33m)\u001b[0m\u001b[1;33m\u001b[0m\u001b[1;33m\u001b[0m\u001b[0m\n",
      "\u001b[1;32m~\\AppData\\Local\\Continuum\\anaconda3\\lib\\http\\client.py\u001b[0m in \u001b[0;36mbegin\u001b[1;34m(self)\u001b[0m\n\u001b[0;32m    304\u001b[0m         \u001b[1;31m# read until we get a non-100 response\u001b[0m\u001b[1;33m\u001b[0m\u001b[1;33m\u001b[0m\u001b[1;33m\u001b[0m\u001b[0m\n\u001b[0;32m    305\u001b[0m         \u001b[1;32mwhile\u001b[0m \u001b[1;32mTrue\u001b[0m\u001b[1;33m:\u001b[0m\u001b[1;33m\u001b[0m\u001b[1;33m\u001b[0m\u001b[0m\n\u001b[1;32m--> 306\u001b[1;33m             \u001b[0mversion\u001b[0m\u001b[1;33m,\u001b[0m \u001b[0mstatus\u001b[0m\u001b[1;33m,\u001b[0m \u001b[0mreason\u001b[0m \u001b[1;33m=\u001b[0m \u001b[0mself\u001b[0m\u001b[1;33m.\u001b[0m\u001b[0m_read_status\u001b[0m\u001b[1;33m(\u001b[0m\u001b[1;33m)\u001b[0m\u001b[1;33m\u001b[0m\u001b[1;33m\u001b[0m\u001b[0m\n\u001b[0m\u001b[0;32m    307\u001b[0m             \u001b[1;32mif\u001b[0m \u001b[0mstatus\u001b[0m \u001b[1;33m!=\u001b[0m \u001b[0mCONTINUE\u001b[0m\u001b[1;33m:\u001b[0m\u001b[1;33m\u001b[0m\u001b[1;33m\u001b[0m\u001b[0m\n\u001b[0;32m    308\u001b[0m                 \u001b[1;32mbreak\u001b[0m\u001b[1;33m\u001b[0m\u001b[1;33m\u001b[0m\u001b[0m\n",
      "\u001b[1;32m~\\AppData\\Local\\Continuum\\anaconda3\\lib\\http\\client.py\u001b[0m in \u001b[0;36m_read_status\u001b[1;34m(self)\u001b[0m\n\u001b[0;32m    265\u001b[0m \u001b[1;33m\u001b[0m\u001b[0m\n\u001b[0;32m    266\u001b[0m     \u001b[1;32mdef\u001b[0m \u001b[0m_read_status\u001b[0m\u001b[1;33m(\u001b[0m\u001b[0mself\u001b[0m\u001b[1;33m)\u001b[0m\u001b[1;33m:\u001b[0m\u001b[1;33m\u001b[0m\u001b[1;33m\u001b[0m\u001b[0m\n\u001b[1;32m--> 267\u001b[1;33m         \u001b[0mline\u001b[0m \u001b[1;33m=\u001b[0m \u001b[0mstr\u001b[0m\u001b[1;33m(\u001b[0m\u001b[0mself\u001b[0m\u001b[1;33m.\u001b[0m\u001b[0mfp\u001b[0m\u001b[1;33m.\u001b[0m\u001b[0mreadline\u001b[0m\u001b[1;33m(\u001b[0m\u001b[0m_MAXLINE\u001b[0m \u001b[1;33m+\u001b[0m \u001b[1;36m1\u001b[0m\u001b[1;33m)\u001b[0m\u001b[1;33m,\u001b[0m \u001b[1;34m\"iso-8859-1\"\u001b[0m\u001b[1;33m)\u001b[0m\u001b[1;33m\u001b[0m\u001b[1;33m\u001b[0m\u001b[0m\n\u001b[0m\u001b[0;32m    268\u001b[0m         \u001b[1;32mif\u001b[0m \u001b[0mlen\u001b[0m\u001b[1;33m(\u001b[0m\u001b[0mline\u001b[0m\u001b[1;33m)\u001b[0m \u001b[1;33m>\u001b[0m \u001b[0m_MAXLINE\u001b[0m\u001b[1;33m:\u001b[0m\u001b[1;33m\u001b[0m\u001b[1;33m\u001b[0m\u001b[0m\n\u001b[0;32m    269\u001b[0m             \u001b[1;32mraise\u001b[0m \u001b[0mLineTooLong\u001b[0m\u001b[1;33m(\u001b[0m\u001b[1;34m\"status line\"\u001b[0m\u001b[1;33m)\u001b[0m\u001b[1;33m\u001b[0m\u001b[1;33m\u001b[0m\u001b[0m\n",
      "\u001b[1;32m~\\AppData\\Local\\Continuum\\anaconda3\\lib\\socket.py\u001b[0m in \u001b[0;36mreadinto\u001b[1;34m(self, b)\u001b[0m\n\u001b[0;32m    587\u001b[0m         \u001b[1;32mwhile\u001b[0m \u001b[1;32mTrue\u001b[0m\u001b[1;33m:\u001b[0m\u001b[1;33m\u001b[0m\u001b[1;33m\u001b[0m\u001b[0m\n\u001b[0;32m    588\u001b[0m             \u001b[1;32mtry\u001b[0m\u001b[1;33m:\u001b[0m\u001b[1;33m\u001b[0m\u001b[1;33m\u001b[0m\u001b[0m\n\u001b[1;32m--> 589\u001b[1;33m                 \u001b[1;32mreturn\u001b[0m \u001b[0mself\u001b[0m\u001b[1;33m.\u001b[0m\u001b[0m_sock\u001b[0m\u001b[1;33m.\u001b[0m\u001b[0mrecv_into\u001b[0m\u001b[1;33m(\u001b[0m\u001b[0mb\u001b[0m\u001b[1;33m)\u001b[0m\u001b[1;33m\u001b[0m\u001b[1;33m\u001b[0m\u001b[0m\n\u001b[0m\u001b[0;32m    590\u001b[0m             \u001b[1;32mexcept\u001b[0m \u001b[0mtimeout\u001b[0m\u001b[1;33m:\u001b[0m\u001b[1;33m\u001b[0m\u001b[1;33m\u001b[0m\u001b[0m\n\u001b[0;32m    591\u001b[0m                 \u001b[0mself\u001b[0m\u001b[1;33m.\u001b[0m\u001b[0m_timeout_occurred\u001b[0m \u001b[1;33m=\u001b[0m \u001b[1;32mTrue\u001b[0m\u001b[1;33m\u001b[0m\u001b[1;33m\u001b[0m\u001b[0m\n",
      "\u001b[1;31mKeyboardInterrupt\u001b[0m: "
     ]
    }
   ],
   "source": [
    "import time\n",
    "from IPython.core.display import clear_output\n",
    "\n",
    "responses = []\n",
    "\n",
    "page = 1\n",
    "total_pages = 1000\n",
    "\n",
    "def lastfm_get(payload):\n",
    "    header = {'user-agent': USER_AGENT}\n",
    "    url = 'http://ws.audioscrobbler.com/2.0/'\n",
    "    \n",
    "    payload['api_key'] = API_KEY\n",
    "    payload['format'] = 'json'\n",
    "    \n",
    "    return requests.get(url, headers=header, params=payload)\n",
    "\n",
    "while page <= total_pages:\n",
    "    payload = {\n",
    "        'method': 'chart.gettopartists',\n",
    "        'limit': 500,\n",
    "        'page': page\n",
    "    }\n",
    "    \n",
    "    print(\"Requesting page {}/{}\".format(page, total_pages))\n",
    "    \n",
    "    clear_output(wait=True)\n",
    "    \n",
    "    response = lastfm_get(payload)\n",
    "    \n",
    "    if response.status_code != 200:\n",
    "        print(response.text)\n",
    "        break\n",
    "        \n",
    "    page = int(response.json()['artists']['@attr']['page'])\n",
    "    \n",
    "    total_pages = int(response.json()['artists']['@attr']['totalPages'])\n",
    "    \n",
    "    responses.append(response)\n",
    "    \n",
    "    if not getattr(response, 'from_cache', False):\n",
    "        time.sleep(0.25)\n",
    "        \n",
    "    page += 1"
   ]
  },
  {
   "cell_type": "code",
   "execution_count": 48,
   "metadata": {},
   "outputs": [
    {
     "name": "stdout",
     "output_type": "stream",
     "text": [
      "Requesting page 1000/1000\n"
     ]
    }
   ],
   "source": [
    "import time\n",
    "from IPython.core.display import clear_output\n",
    "\n",
    "responses = []\n",
    "\n",
    "page = 1\n",
    "total_pages = 1000\n",
    "\n",
    "def lastfm_get(payload):\n",
    "    header = {'user-agent': USER_AGENT}\n",
    "    url = 'http://ws.audioscrobbler.com/2.0/'\n",
    "    \n",
    "    payload['api_key'] = API_KEY\n",
    "    payload['format'] = 'json'\n",
    "    \n",
    "    return requests.get(url, headers=header, params=payload)\n",
    "\n",
    "while page <= total_pages:\n",
    "    payload = {\n",
    "        'method': 'chart.gettopartists',\n",
    "        'limit': 500,\n",
    "        'page': page\n",
    "    }\n",
    "    \n",
    "    print(\"Requesting page {}/{}\".format(page, total_pages))\n",
    "    \n",
    "    clear_output(wait=True)\n",
    "    \n",
    "    response = lastfm_get(payload)\n",
    "    \n",
    "    if response.status_code != 200:\n",
    "        print(response.text)\n",
    "        break\n",
    "        \n",
    "    page = int(response.json()['artists']['@attr']['page'])\n",
    "    \n",
    "    #total_pages = int(response.json()['artists']['@attr']['totalPages'])\n",
    "    \n",
    "    responses.append(response)\n",
    "    \n",
    "    if not getattr(response, 'from_cache', False):\n",
    "        time.sleep(0.25)\n",
    "        \n",
    "    page += 1"
   ]
  },
  {
   "cell_type": "code",
   "execution_count": 49,
   "metadata": {},
   "outputs": [
    {
     "data": {
      "text/html": [
       "<div>\n",
       "<style scoped>\n",
       "    .dataframe tbody tr th:only-of-type {\n",
       "        vertical-align: middle;\n",
       "    }\n",
       "\n",
       "    .dataframe tbody tr th {\n",
       "        vertical-align: top;\n",
       "    }\n",
       "\n",
       "    .dataframe thead th {\n",
       "        text-align: right;\n",
       "    }\n",
       "</style>\n",
       "<table border=\"1\" class=\"dataframe\">\n",
       "  <thead>\n",
       "    <tr style=\"text-align: right;\">\n",
       "      <th></th>\n",
       "      <th>name</th>\n",
       "      <th>playcount</th>\n",
       "      <th>listeners</th>\n",
       "      <th>mbid</th>\n",
       "      <th>url</th>\n",
       "      <th>streamable</th>\n",
       "      <th>image</th>\n",
       "    </tr>\n",
       "  </thead>\n",
       "  <tbody>\n",
       "    <tr>\n",
       "      <td>0</td>\n",
       "      <td>Billie Eilish</td>\n",
       "      <td>55873187</td>\n",
       "      <td>749770</td>\n",
       "      <td></td>\n",
       "      <td>https://www.last.fm/music/Billie+Eilish</td>\n",
       "      <td>0</td>\n",
       "      <td>[{'#text': 'https://lastfm.freetls.fastly.net/...</td>\n",
       "    </tr>\n",
       "    <tr>\n",
       "      <td>1</td>\n",
       "      <td>The Weeknd</td>\n",
       "      <td>95134035</td>\n",
       "      <td>1453599</td>\n",
       "      <td>c8b03190-306c-4120-bb0b-6f2ebfc06ea9</td>\n",
       "      <td>https://www.last.fm/music/The+Weeknd</td>\n",
       "      <td>0</td>\n",
       "      <td>[{'#text': 'https://lastfm.freetls.fastly.net/...</td>\n",
       "    </tr>\n",
       "    <tr>\n",
       "      <td>2</td>\n",
       "      <td>Tame Impala</td>\n",
       "      <td>91457781</td>\n",
       "      <td>1282757</td>\n",
       "      <td>63aa26c3-d59b-4da4-84ac-716b54f1ef4d</td>\n",
       "      <td>https://www.last.fm/music/Tame+Impala</td>\n",
       "      <td>0</td>\n",
       "      <td>[{'#text': 'https://lastfm.freetls.fastly.net/...</td>\n",
       "    </tr>\n",
       "    <tr>\n",
       "      <td>3</td>\n",
       "      <td>Kanye West</td>\n",
       "      <td>280206459</td>\n",
       "      <td>4549061</td>\n",
       "      <td>164f0d73-1234-4e2c-8743-d77bf2191051</td>\n",
       "      <td>https://www.last.fm/music/Kanye+West</td>\n",
       "      <td>0</td>\n",
       "      <td>[{'#text': 'https://lastfm.freetls.fastly.net/...</td>\n",
       "    </tr>\n",
       "    <tr>\n",
       "      <td>4</td>\n",
       "      <td>Lady Gaga</td>\n",
       "      <td>302865191</td>\n",
       "      <td>3957847</td>\n",
       "      <td>650e7db6-b795-4eb5-a702-5ea2fc46c848</td>\n",
       "      <td>https://www.last.fm/music/Lady+Gaga</td>\n",
       "      <td>0</td>\n",
       "      <td>[{'#text': 'https://lastfm.freetls.fastly.net/...</td>\n",
       "    </tr>\n",
       "  </tbody>\n",
       "</table>\n",
       "</div>"
      ],
      "text/plain": [
       "            name  playcount listeners                                  mbid  \\\n",
       "0  Billie Eilish   55873187    749770                                         \n",
       "1     The Weeknd   95134035   1453599  c8b03190-306c-4120-bb0b-6f2ebfc06ea9   \n",
       "2    Tame Impala   91457781   1282757  63aa26c3-d59b-4da4-84ac-716b54f1ef4d   \n",
       "3     Kanye West  280206459   4549061  164f0d73-1234-4e2c-8743-d77bf2191051   \n",
       "4      Lady Gaga  302865191   3957847  650e7db6-b795-4eb5-a702-5ea2fc46c848   \n",
       "\n",
       "                                       url streamable  \\\n",
       "0  https://www.last.fm/music/Billie+Eilish          0   \n",
       "1     https://www.last.fm/music/The+Weeknd          0   \n",
       "2    https://www.last.fm/music/Tame+Impala          0   \n",
       "3     https://www.last.fm/music/Kanye+West          0   \n",
       "4      https://www.last.fm/music/Lady+Gaga          0   \n",
       "\n",
       "                                               image  \n",
       "0  [{'#text': 'https://lastfm.freetls.fastly.net/...  \n",
       "1  [{'#text': 'https://lastfm.freetls.fastly.net/...  \n",
       "2  [{'#text': 'https://lastfm.freetls.fastly.net/...  \n",
       "3  [{'#text': 'https://lastfm.freetls.fastly.net/...  \n",
       "4  [{'#text': 'https://lastfm.freetls.fastly.net/...  "
      ]
     },
     "execution_count": 49,
     "metadata": {},
     "output_type": "execute_result"
    }
   ],
   "source": [
    "import pandas as pd\n",
    "\n",
    "r0 = responses[0]\n",
    "r0_json = r0.json()\n",
    "r0_artists = r0_json['artists']['artist']\n",
    "r0_df = pd.DataFrame(r0_artists)\n",
    "r0_df.head()"
   ]
  },
  {
   "cell_type": "code",
   "execution_count": 51,
   "metadata": {},
   "outputs": [
    {
     "data": {
      "text/html": [
       "<div>\n",
       "<style scoped>\n",
       "    .dataframe tbody tr th:only-of-type {\n",
       "        vertical-align: middle;\n",
       "    }\n",
       "\n",
       "    .dataframe tbody tr th {\n",
       "        vertical-align: top;\n",
       "    }\n",
       "\n",
       "    .dataframe thead th {\n",
       "        text-align: right;\n",
       "    }\n",
       "</style>\n",
       "<table border=\"1\" class=\"dataframe\">\n",
       "  <thead>\n",
       "    <tr style=\"text-align: right;\">\n",
       "      <th></th>\n",
       "      <th>name</th>\n",
       "      <th>playcount</th>\n",
       "      <th>listeners</th>\n",
       "      <th>mbid</th>\n",
       "      <th>url</th>\n",
       "      <th>streamable</th>\n",
       "      <th>image</th>\n",
       "    </tr>\n",
       "  </thead>\n",
       "  <tbody>\n",
       "    <tr>\n",
       "      <td>0</td>\n",
       "      <td>Billie Eilish</td>\n",
       "      <td>55873187</td>\n",
       "      <td>749770</td>\n",
       "      <td></td>\n",
       "      <td>https://www.last.fm/music/Billie+Eilish</td>\n",
       "      <td>0</td>\n",
       "      <td>[{'#text': 'https://lastfm.freetls.fastly.net/...</td>\n",
       "    </tr>\n",
       "    <tr>\n",
       "      <td>1</td>\n",
       "      <td>The Weeknd</td>\n",
       "      <td>95134035</td>\n",
       "      <td>1453599</td>\n",
       "      <td>c8b03190-306c-4120-bb0b-6f2ebfc06ea9</td>\n",
       "      <td>https://www.last.fm/music/The+Weeknd</td>\n",
       "      <td>0</td>\n",
       "      <td>[{'#text': 'https://lastfm.freetls.fastly.net/...</td>\n",
       "    </tr>\n",
       "    <tr>\n",
       "      <td>2</td>\n",
       "      <td>Tame Impala</td>\n",
       "      <td>91457781</td>\n",
       "      <td>1282757</td>\n",
       "      <td>63aa26c3-d59b-4da4-84ac-716b54f1ef4d</td>\n",
       "      <td>https://www.last.fm/music/Tame+Impala</td>\n",
       "      <td>0</td>\n",
       "      <td>[{'#text': 'https://lastfm.freetls.fastly.net/...</td>\n",
       "    </tr>\n",
       "    <tr>\n",
       "      <td>3</td>\n",
       "      <td>Kanye West</td>\n",
       "      <td>280206459</td>\n",
       "      <td>4549061</td>\n",
       "      <td>164f0d73-1234-4e2c-8743-d77bf2191051</td>\n",
       "      <td>https://www.last.fm/music/Kanye+West</td>\n",
       "      <td>0</td>\n",
       "      <td>[{'#text': 'https://lastfm.freetls.fastly.net/...</td>\n",
       "    </tr>\n",
       "    <tr>\n",
       "      <td>4</td>\n",
       "      <td>Lady Gaga</td>\n",
       "      <td>302865191</td>\n",
       "      <td>3957847</td>\n",
       "      <td>650e7db6-b795-4eb5-a702-5ea2fc46c848</td>\n",
       "      <td>https://www.last.fm/music/Lady+Gaga</td>\n",
       "      <td>0</td>\n",
       "      <td>[{'#text': 'https://lastfm.freetls.fastly.net/...</td>\n",
       "    </tr>\n",
       "  </tbody>\n",
       "</table>\n",
       "</div>"
      ],
      "text/plain": [
       "            name  playcount listeners                                  mbid  \\\n",
       "0  Billie Eilish   55873187    749770                                         \n",
       "1     The Weeknd   95134035   1453599  c8b03190-306c-4120-bb0b-6f2ebfc06ea9   \n",
       "2    Tame Impala   91457781   1282757  63aa26c3-d59b-4da4-84ac-716b54f1ef4d   \n",
       "3     Kanye West  280206459   4549061  164f0d73-1234-4e2c-8743-d77bf2191051   \n",
       "4      Lady Gaga  302865191   3957847  650e7db6-b795-4eb5-a702-5ea2fc46c848   \n",
       "\n",
       "                                       url streamable  \\\n",
       "0  https://www.last.fm/music/Billie+Eilish          0   \n",
       "1     https://www.last.fm/music/The+Weeknd          0   \n",
       "2    https://www.last.fm/music/Tame+Impala          0   \n",
       "3     https://www.last.fm/music/Kanye+West          0   \n",
       "4      https://www.last.fm/music/Lady+Gaga          0   \n",
       "\n",
       "                                               image  \n",
       "0  [{'#text': 'https://lastfm.freetls.fastly.net/...  \n",
       "1  [{'#text': 'https://lastfm.freetls.fastly.net/...  \n",
       "2  [{'#text': 'https://lastfm.freetls.fastly.net/...  \n",
       "3  [{'#text': 'https://lastfm.freetls.fastly.net/...  \n",
       "4  [{'#text': 'https://lastfm.freetls.fastly.net/...  "
      ]
     },
     "execution_count": 51,
     "metadata": {},
     "output_type": "execute_result"
    }
   ],
   "source": [
    "frames = [pd.DataFrame(r.json()['artists']['artist']) for r in responses]\n",
    "artists = pd.concat(frames)\n",
    "artists.head()"
   ]
  },
  {
   "cell_type": "code",
   "execution_count": 52,
   "metadata": {},
   "outputs": [
    {
     "name": "stdout",
     "output_type": "stream",
     "text": [
      "{\n",
      "    \"toptags\": {\n",
      "        \"@attr\": {\n",
      "            \"artist\": \"Lana Del Rey\"\n",
      "        },\n",
      "        \"tag\": [\n",
      "            {\n",
      "                \"count\": 100,\n",
      "                \"name\": \"female vocalists\",\n",
      "                \"url\": \"https://www.last.fm/tag/female+vocalists\"\n",
      "            },\n",
      "            {\n",
      "                \"count\": 93,\n",
      "                \"name\": \"indie\",\n",
      "                \"url\": \"https://www.last.fm/tag/indie\"\n",
      "            },\n",
      "            {\n",
      "                \"count\": 89,\n",
      "                \"name\": \"indie pop\",\n",
      "                \"url\": \"https://www.last.fm/tag/indie+pop\"\n",
      "            },\n",
      "            {\n",
      "                \"count\": 80,\n",
      "                \"name\": \"pop\",\n",
      "                \"url\": \"https://www.last.fm/tag/pop\"\n",
      "            },\n",
      "            {\n",
      "                \"count\": 66,\n",
      "                \"name\": \"alternative\",\n",
      "                \"url\": \"https://www.last.fm/tag/alternative\"\n",
      "            },\n",
      "            {\n",
      "                \"count\": 14,\n",
      "                \"name\": \"american\",\n",
      "                \"url\": \"https://www.last.fm/tag/american\"\n",
      "            },\n",
      "            {\n",
      "                \"count\": 14,\n",
      "                \"name\": \"dream pop\",\n",
      "                \"url\": \"https://www.last.fm/tag/dream+pop\"\n",
      "            },\n",
      "            {\n",
      "                \"count\": 12,\n",
      "                \"name\": \"seen live\",\n",
      "                \"url\": \"https://www.last.fm/tag/seen+live\"\n",
      "            },\n",
      "            {\n",
      "                \"count\": 10,\n",
      "                \"name\": \"singer-songwriter\",\n",
      "                \"url\": \"https://www.last.fm/tag/singer-songwriter\"\n",
      "            },\n",
      "            {\n",
      "                \"count\": 10,\n",
      "                \"name\": \"trip-hop\",\n",
      "                \"url\": \"https://www.last.fm/tag/trip-hop\"\n",
      "            },\n",
      "            {\n",
      "                \"count\": 7,\n",
      "                \"name\": \"cult\",\n",
      "                \"url\": \"https://www.last.fm/tag/cult\"\n",
      "            },\n",
      "            {\n",
      "                \"count\": 7,\n",
      "                \"name\": \"sadcore\",\n",
      "                \"url\": \"https://www.last.fm/tag/sadcore\"\n",
      "            },\n",
      "            {\n",
      "                \"count\": 7,\n",
      "                \"name\": \"legend\",\n",
      "                \"url\": \"https://www.last.fm/tag/legend\"\n",
      "            },\n",
      "            {\n",
      "                \"count\": 6,\n",
      "                \"name\": \"chamber pop\",\n",
      "                \"url\": \"https://www.last.fm/tag/chamber+pop\"\n",
      "            },\n",
      "            {\n",
      "                \"count\": 6,\n",
      "                \"name\": \"Lana Del Rey\",\n",
      "                \"url\": \"https://www.last.fm/tag/Lana+Del+Rey\"\n",
      "            },\n",
      "            {\n",
      "                \"count\": 5,\n",
      "                \"name\": \"baroque pop\",\n",
      "                \"url\": \"https://www.last.fm/tag/baroque+pop\"\n",
      "            },\n",
      "            {\n",
      "                \"count\": 4,\n",
      "                \"name\": \"female vocalist\",\n",
      "                \"url\": \"https://www.last.fm/tag/female+vocalist\"\n",
      "            },\n",
      "            {\n",
      "                \"count\": 4,\n",
      "                \"name\": \"alternative pop\",\n",
      "                \"url\": \"https://www.last.fm/tag/alternative+pop\"\n",
      "            },\n",
      "            {\n",
      "                \"count\": 4,\n",
      "                \"name\": \"Retro\",\n",
      "                \"url\": \"https://www.last.fm/tag/Retro\"\n",
      "            },\n",
      "            {\n",
      "                \"count\": 4,\n",
      "                \"name\": \"art pop\",\n",
      "                \"url\": \"https://www.last.fm/tag/art+pop\"\n",
      "            },\n",
      "            {\n",
      "                \"count\": 3,\n",
      "                \"name\": \"chillout\",\n",
      "                \"url\": \"https://www.last.fm/tag/chillout\"\n",
      "            },\n",
      "            {\n",
      "                \"count\": 3,\n",
      "                \"name\": \"soul\",\n",
      "                \"url\": \"https://www.last.fm/tag/soul\"\n",
      "            },\n",
      "            {\n",
      "                \"count\": 3,\n",
      "                \"name\": \"USA\",\n",
      "                \"url\": \"https://www.last.fm/tag/USA\"\n",
      "            },\n",
      "            {\n",
      "                \"count\": 3,\n",
      "                \"name\": \"sexy\",\n",
      "                \"url\": \"https://www.last.fm/tag/sexy\"\n",
      "            },\n",
      "            {\n",
      "                \"count\": 2,\n",
      "                \"name\": \"new york\",\n",
      "                \"url\": \"https://www.last.fm/tag/new+york\"\n",
      "            },\n",
      "            {\n",
      "                \"count\": 2,\n",
      "                \"name\": \"rock\",\n",
      "                \"url\": \"https://www.last.fm/tag/rock\"\n",
      "            },\n",
      "            {\n",
      "                \"count\": 2,\n",
      "                \"name\": \"trip hop\",\n",
      "                \"url\": \"https://www.last.fm/tag/trip+hop\"\n",
      "            },\n",
      "            {\n",
      "                \"count\": 2,\n",
      "                \"name\": \"hollywood sadcore\",\n",
      "                \"url\": \"https://www.last.fm/tag/hollywood+sadcore\"\n",
      "            },\n",
      "            {\n",
      "                \"count\": 2,\n",
      "                \"name\": \"indie rock\",\n",
      "                \"url\": \"https://www.last.fm/tag/indie+rock\"\n",
      "            },\n",
      "            {\n",
      "                \"count\": 2,\n",
      "                \"name\": \"female\",\n",
      "                \"url\": \"https://www.last.fm/tag/female\"\n",
      "            },\n",
      "            {\n",
      "                \"count\": 2,\n",
      "                \"name\": \"jazz\",\n",
      "                \"url\": \"https://www.last.fm/tag/jazz\"\n",
      "            },\n",
      "            {\n",
      "                \"count\": 2,\n",
      "                \"name\": \"10s\",\n",
      "                \"url\": \"https://www.last.fm/tag/10s\"\n",
      "            },\n",
      "            {\n",
      "                \"count\": 2,\n",
      "                \"name\": \"folk\",\n",
      "                \"url\": \"https://www.last.fm/tag/folk\"\n",
      "            },\n",
      "            {\n",
      "                \"count\": 2,\n",
      "                \"name\": \"lana\",\n",
      "                \"url\": \"https://www.last.fm/tag/lana\"\n",
      "            },\n",
      "            {\n",
      "                \"count\": 2,\n",
      "                \"name\": \"electronic\",\n",
      "                \"url\": \"https://www.last.fm/tag/electronic\"\n",
      "            },\n",
      "            {\n",
      "                \"count\": 2,\n",
      "                \"name\": \"blues\",\n",
      "                \"url\": \"https://www.last.fm/tag/blues\"\n",
      "            },\n",
      "            {\n",
      "                \"count\": 2,\n",
      "                \"name\": \"2010s\",\n",
      "                \"url\": \"https://www.last.fm/tag/2010s\"\n",
      "            },\n",
      "            {\n",
      "                \"count\": 2,\n",
      "                \"name\": \"vintage\",\n",
      "                \"url\": \"https://www.last.fm/tag/vintage\"\n",
      "            },\n",
      "            {\n",
      "                \"count\": 2,\n",
      "                \"name\": \"alternative rock\",\n",
      "                \"url\": \"https://www.last.fm/tag/alternative+rock\"\n",
      "            },\n",
      "            {\n",
      "                \"count\": 2,\n",
      "                \"name\": \"overrated\",\n",
      "                \"url\": \"https://www.last.fm/tag/overrated\"\n",
      "            },\n",
      "            {\n",
      "                \"count\": 2,\n",
      "                \"name\": \"retro pop\",\n",
      "                \"url\": \"https://www.last.fm/tag/retro+pop\"\n",
      "            },\n",
      "            {\n",
      "                \"count\": 2,\n",
      "                \"name\": \"beautiful\",\n",
      "                \"url\": \"https://www.last.fm/tag/beautiful\"\n",
      "            },\n",
      "            {\n",
      "                \"count\": 2,\n",
      "                \"name\": \"melancholic\",\n",
      "                \"url\": \"https://www.last.fm/tag/melancholic\"\n",
      "            },\n",
      "            {\n",
      "                \"count\": 1,\n",
      "                \"name\": \"americana\",\n",
      "                \"url\": \"https://www.last.fm/tag/americana\"\n",
      "            },\n",
      "            {\n",
      "                \"count\": 1,\n",
      "                \"name\": \"dark pop\",\n",
      "                \"url\": \"https://www.last.fm/tag/dark+pop\"\n",
      "            },\n",
      "            {\n",
      "                \"count\": 1,\n",
      "                \"name\": \"Hollywood Pop\",\n",
      "                \"url\": \"https://www.last.fm/tag/Hollywood+Pop\"\n",
      "            },\n",
      "            {\n",
      "                \"count\": 1,\n",
      "                \"name\": \"chill\",\n",
      "                \"url\": \"https://www.last.fm/tag/chill\"\n",
      "            },\n",
      "            {\n",
      "                \"count\": 1,\n",
      "                \"name\": \"sad\",\n",
      "                \"url\": \"https://www.last.fm/tag/sad\"\n",
      "            },\n",
      "            {\n",
      "                \"count\": 1,\n",
      "                \"name\": \"diva\",\n",
      "                \"url\": \"https://www.last.fm/tag/diva\"\n",
      "            }\n",
      "        ]\n",
      "    }\n",
      "}\n"
     ]
    }
   ],
   "source": [
    "r = lastfm_get({'method': 'artist.getTopTags', 'artist': 'Lana Del Rey'})\n",
    "jprint(r.json())"
   ]
  },
  {
   "cell_type": "code",
   "execution_count": 53,
   "metadata": {},
   "outputs": [
    {
     "data": {
      "text/plain": [
       "['female vocalists', 'indie', 'indie pop']"
      ]
     },
     "execution_count": 53,
     "metadata": {},
     "output_type": "execute_result"
    }
   ],
   "source": [
    "tags = [t['name'] for t in r.json()['toptags']['tag'][:3]]\n",
    "tags"
   ]
  },
  {
   "cell_type": "code",
   "execution_count": 54,
   "metadata": {},
   "outputs": [
    {
     "data": {
      "text/plain": [
       "'female vocalists, indie, indie pop'"
      ]
     },
     "execution_count": 54,
     "metadata": {},
     "output_type": "execute_result"
    }
   ],
   "source": [
    "', '.join(tags)"
   ]
  },
  {
   "cell_type": "code",
   "execution_count": 55,
   "metadata": {},
   "outputs": [],
   "source": [
    "def lookup_tags(artist):\n",
    "    response = lastfm_get({\n",
    "        'method': 'artist.getTopTags',\n",
    "        'artist': artist\n",
    "    })\n",
    "    \n",
    "    if response.status_code != 200:\n",
    "        return None\n",
    "    \n",
    "    tags = [t['name'] for t in r.json()['toptags']['tag'][:3]]\n",
    "    tags_str = ', '.join(tags)\n",
    "    \n",
    "    if not getattr(response, 'from_cache', False):\n",
    "        time.sleep(0.25)\n",
    "    return tags_str"
   ]
  },
  {
   "cell_type": "code",
   "execution_count": 56,
   "metadata": {},
   "outputs": [
    {
     "data": {
      "text/plain": [
       "'female vocalists, indie, indie pop'"
      ]
     },
     "execution_count": 56,
     "metadata": {},
     "output_type": "execute_result"
    }
   ],
   "source": [
    "lookup_tags('Billie Eilish')"
   ]
  },
  {
   "cell_type": "code",
   "execution_count": null,
   "metadata": {},
   "outputs": [],
   "source": []
  }
 ],
 "metadata": {
  "kernelspec": {
   "display_name": "Python 3",
   "language": "python",
   "name": "python3"
  },
  "language_info": {
   "codemirror_mode": {
    "name": "ipython",
    "version": 3
   },
   "file_extension": ".py",
   "mimetype": "text/x-python",
   "name": "python",
   "nbconvert_exporter": "python",
   "pygments_lexer": "ipython3",
   "version": "3.7.4"
  }
 },
 "nbformat": 4,
 "nbformat_minor": 2
}
